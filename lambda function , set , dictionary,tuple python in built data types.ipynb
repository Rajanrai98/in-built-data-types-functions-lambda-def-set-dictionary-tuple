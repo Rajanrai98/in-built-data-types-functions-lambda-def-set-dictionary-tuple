{
 "cells": [
  {
   "cell_type": "code",
   "execution_count": null,
   "id": "1d45b69e",
   "metadata": {},
   "outputs": [],
   "source": [
    "tup = (\"apple\",\"banana\",\"cherry\",\"apple\",\"melon\",\"mango\")\n",
    "l = list(tup)\n",
    "l[1] = \"kkk\"\n",
    "tup = tuple(l)\n",
    "tup"
   ]
  },
  {
   "cell_type": "code",
   "execution_count": null,
   "id": "ba5cba29",
   "metadata": {},
   "outputs": [],
   "source": [
    "tup1 = (\"1111\",)\n",
    "tup = tup+tup1\n",
    "tup"
   ]
  },
  {
   "cell_type": "code",
   "execution_count": null,
   "id": "89f61062",
   "metadata": {},
   "outputs": [],
   "source": [
    "tup2 = (\"rajan\",)\n",
    "tup = tup2+tup\n",
    "tup"
   ]
  },
  {
   "cell_type": "code",
   "execution_count": null,
   "id": "ae1e0706",
   "metadata": {},
   "outputs": [],
   "source": [
    "tup3 = (\"rai\",)\n",
    "tup = tup3+tup\n",
    "tup"
   ]
  },
  {
   "cell_type": "code",
   "execution_count": null,
   "id": "81d4c9be",
   "metadata": {},
   "outputs": [],
   "source": [
    "l1 = list(tup)\n",
    "l1[0] = \"data_science\"\n",
    "tup = tuple(l1)\n",
    "print(tup)"
   ]
  },
  {
   "cell_type": "code",
   "execution_count": null,
   "id": "1eac7677",
   "metadata": {},
   "outputs": [],
   "source": [
    "## python loop tuple:\n",
    "#you can loop through the tuple items by using a for loop oterate through the items and print the values:\n",
    "\n",
    "this_tuple = (\"apple\",\"banana\",\"cherry\")\n",
    "for x in this_tuple:\n",
    "    print(x)"
   ]
  },
  {
   "cell_type": "code",
   "execution_count": null,
   "id": "546d5804",
   "metadata": {},
   "outputs": [],
   "source": [
    "tuple1 = (\"ford\",\"volkswagen\",\"toyota\",\"tata\",\"mahindra\",\"maruti_suzuki\",\"skoda\")\n",
    "for x in tuple1:\n",
    "    print(x)"
   ]
  },
  {
   "cell_type": "code",
   "execution_count": null,
   "id": "f039e20a",
   "metadata": {},
   "outputs": [],
   "source": [
    "# loop through the index numbers\n",
    "this_tuple = (\"apple\",\"banana\",\"cherry\")\n",
    "for i in range(len(this_tuple)):\n",
    "    print(this_tuple[i])"
   ]
  },
  {
   "cell_type": "code",
   "execution_count": null,
   "id": "e3f3849e",
   "metadata": {},
   "outputs": [],
   "source": [
    "tuple2 = (\"venue\",\"creta\",\"brezza\",\"compas\",\"harrier\",\"safari\",\"scorpion\",\"thar\",\"jimmny\",\"grand_vitara\")\n",
    "for i in range(len(tuple2)):\n",
    "    print(tuple2[i])"
   ]
  },
  {
   "cell_type": "code",
   "execution_count": null,
   "id": "c8999d4f",
   "metadata": {},
   "outputs": [],
   "source": [
    "## join 2 tuple\n",
    "tuple1 = (\"a\",\"b\",\"c\")\n",
    "tuple2 = (1,2,3)\n",
    "tuple3 = tuple1+tuple2\n",
    "print(tuple3)"
   ]
  },
  {
   "cell_type": "code",
   "execution_count": null,
   "id": "187e82dc",
   "metadata": {},
   "outputs": [],
   "source": [
    "fruits = (\"apple\",\"orange\",\"mango\",\"gavava\",\"cherry\")\n",
    "mytuple = fruits*2\n",
    "print(mytuple)"
   ]
  },
  {
   "cell_type": "code",
   "execution_count": null,
   "id": "6ac1191d",
   "metadata": {},
   "outputs": [],
   "source": [
    "## count function \n",
    "t = (1,6,3,5,2,7,5,5)\n",
    "x = t.count(5)\n",
    "x"
   ]
  },
  {
   "cell_type": "code",
   "execution_count": null,
   "id": "c659c3b1",
   "metadata": {},
   "outputs": [],
   "source": [
    "x = t.index(5)\n",
    "x"
   ]
  },
  {
   "cell_type": "code",
   "execution_count": null,
   "id": "b8bda1e0",
   "metadata": {},
   "outputs": [],
   "source": [
    "tuple2 = (7,5,6,8,9,3,2,5,4,6,4,7,8,9)\n",
    "t = tuple2.count(4)\n",
    "print(t)"
   ]
  },
  {
   "cell_type": "code",
   "execution_count": null,
   "id": "267397ae",
   "metadata": {},
   "outputs": [],
   "source": [
    "tuple2.index(6)"
   ]
  },
  {
   "cell_type": "code",
   "execution_count": null,
   "id": "748de409",
   "metadata": {},
   "outputs": [],
   "source": [
    "tuple2.count(4)"
   ]
  },
  {
   "cell_type": "code",
   "execution_count": null,
   "id": "07a37de2",
   "metadata": {},
   "outputs": [],
   "source": [
    "## reverse and swap used to create  a new tuple\n",
    "\n",
    "tuple1 = (11,22,33,44,55,66)\n",
    "tuple_new = tuple1.index(44)\n",
    "tuple_new"
   ]
  },
  {
   "cell_type": "code",
   "execution_count": null,
   "id": "3b4aad02",
   "metadata": {},
   "outputs": [],
   "source": [
    "tuple1[3]"
   ]
  },
  {
   "cell_type": "code",
   "execution_count": null,
   "id": "756eb334",
   "metadata": {},
   "outputs": [],
   "source": [
    "tuple1[4]"
   ]
  },
  {
   "cell_type": "code",
   "execution_count": null,
   "id": "6c40767a",
   "metadata": {},
   "outputs": [],
   "source": [
    "new_tuple = (44,55)"
   ]
  },
  {
   "cell_type": "code",
   "execution_count": null,
   "id": "c0fad7e1",
   "metadata": {},
   "outputs": [],
   "source": [
    "tuple1  = (11,22,33,44,55,66)\n",
    "reverse = tuple1[::-1]"
   ]
  },
  {
   "cell_type": "code",
   "execution_count": null,
   "id": "b5ef6594",
   "metadata": {},
   "outputs": [],
   "source": [
    "reverse"
   ]
  },
  {
   "cell_type": "code",
   "execution_count": null,
   "id": "d44b6c9e",
   "metadata": {},
   "outputs": [],
   "source": [
    "tuple1  = (11,22,33,44,55,66)\n",
    "swap = tuple1[2]"
   ]
  },
  {
   "cell_type": "code",
   "execution_count": null,
   "id": "2eca37ae",
   "metadata": {},
   "outputs": [],
   "source": [
    "l1 = list(tuple1)\n",
    "l1[4] = 43\n",
    "tup = tuple(l1)\n",
    "print(tup)"
   ]
  },
  {
   "cell_type": "code",
   "execution_count": null,
   "id": "6e55c39e",
   "metadata": {},
   "outputs": [],
   "source": [
    "##1 what is the output if the following snippet of code\n",
    "t1 = 4,5,6\n",
    "print(type(t1))"
   ]
  },
  {
   "cell_type": "code",
   "execution_count": null,
   "id": "39eace70",
   "metadata": {},
   "outputs": [],
   "source": [
    "t1 = (1,2,3,4,5,6,7,8)\n",
    "print(t1)\n",
    "print(t1*2)\n",
    "print(t1+t1)\n",
    "print(len(t1)*2)"
   ]
  },
  {
   "cell_type": "code",
   "execution_count": null,
   "id": "c895c66a",
   "metadata": {},
   "outputs": [],
   "source": [
    "t1 = (1,2,3,4,5,6,7,8)\n",
    "print(t1[0])\n",
    "print(t1[-1])\n",
    "print(t1[2+3])\n",
    "print(t1[4-1])\n",
    "print(t1[7%2])"
   ]
  },
  {
   "cell_type": "code",
   "execution_count": null,
   "id": "9a3e7206",
   "metadata": {},
   "outputs": [],
   "source": [
    "## sets are used to store multiple items in a single variable\n",
    "## set is one of 4 built in data type in python used to store collection of data\n",
    "## a set is collection which is unordered , unchanngeable*  and unindexed\n",
    "\n",
    "## unordered mean that theitems in a set do not have a defined order.\n",
    "# set items can appear in different order every time you use them and cannot be reffered to by index or key.\n",
    "\n"
   ]
  },
  {
   "cell_type": "code",
   "execution_count": null,
   "id": "c46c875d",
   "metadata": {},
   "outputs": [],
   "source": [
    "thisset = {\"apple\",\"banana\",\"cherry\",\"apple\"}\n",
    "print(thisset)"
   ]
  },
  {
   "cell_type": "code",
   "execution_count": null,
   "id": "ace64959",
   "metadata": {},
   "outputs": [],
   "source": [
    "s = {1,2,3,4,\"rajan\",True}\n",
    "print(s)"
   ]
  },
  {
   "cell_type": "code",
   "execution_count": null,
   "id": "696e9729",
   "metadata": {},
   "outputs": [],
   "source": [
    "s = {1,2,3,4,\"apple\",\"cherry\",True,False}\n",
    "print(s)"
   ]
  },
  {
   "cell_type": "code",
   "execution_count": null,
   "id": "38275801",
   "metadata": {},
   "outputs": [],
   "source": [
    "## using  for loop function\n",
    "s = {1,2,3,4,\"apple\",\"cherry\",True,False}\n",
    "for i in s:\n",
    "    print(i)"
   ]
  },
  {
   "cell_type": "code",
   "execution_count": null,
   "id": "df34ef97",
   "metadata": {},
   "outputs": [],
   "source": [
    "s = {\"ram\",\"shyam\",\"hari\",\"govina\",\"narayan\",\"rudra\"}\n",
    "print(\"ram\" in s)"
   ]
  },
  {
   "cell_type": "code",
   "execution_count": null,
   "id": "b55ed03f",
   "metadata": {},
   "outputs": [],
   "source": [
    "s = {\"ram\",\"shyam\",\"hari\",\"govina\",\"narayan\",\"rudra\"}\n",
    "print(\"ram1\" in s)"
   ]
  },
  {
   "cell_type": "code",
   "execution_count": null,
   "id": "86d1416a",
   "metadata": {},
   "outputs": [],
   "source": [
    "## using update function\n",
    "\n",
    "s = {1,2,3,4,5,\"shyam\",\"ram\",\"gobind\" , 12.6}\n",
    "s1 = {\"bharat\",\"shatrudhan\",\"hari\",\"narayan\",\"rudra\"}\n",
    "s.update(s1)\n",
    "print(s)"
   ]
  },
  {
   "cell_type": "code",
   "execution_count": null,
   "id": "50fc22fa",
   "metadata": {},
   "outputs": [],
   "source": [
    "s2 = {12,45 , 43.12  , 1.01  , \"rajan\",\"vikramaditya\",\"samudragupta\",\"vigyan\"}\n",
    "s = {1,2,3,4,5,\"shyam\",\"ram\",\"gobind\" , 12.6}\n",
    "s.update(s2)\n",
    "print(s)\n"
   ]
  },
  {
   "cell_type": "code",
   "execution_count": null,
   "id": "bfbfaf2e",
   "metadata": {},
   "outputs": [],
   "source": [
    "s.remove(\"vigyan\")\n",
    "print(s)"
   ]
  },
  {
   "cell_type": "code",
   "execution_count": null,
   "id": "52d6e5bf",
   "metadata": {},
   "outputs": [],
   "source": [
    "## pop function is used to remove element from the set randomly\n",
    "\n",
    "s.pop()\n",
    "print(s)"
   ]
  },
  {
   "cell_type": "code",
   "execution_count": null,
   "id": "f1cd5569",
   "metadata": {},
   "outputs": [],
   "source": [
    "s.clear()\n",
    "s"
   ]
  },
  {
   "cell_type": "code",
   "execution_count": null,
   "id": "6a30af6a",
   "metadata": {},
   "outputs": [],
   "source": [
    "## union() is the function used to unite the two sets:\n",
    "set1 = {\"a\",\"b\",\"c\"}\n",
    "set2 = {1,2,3}\n",
    "set3 = set1.union(set2)\n",
    "print(set3)"
   ]
  },
  {
   "cell_type": "code",
   "execution_count": null,
   "id": "b115c1ee",
   "metadata": {},
   "outputs": [],
   "source": [
    "## the update() method insert the items in set2 into set1:\n",
    "set_1 = {\"a\",\"b\",\"c\"}\n",
    "set_2 = {1,2,3}\n",
    "set_3 = set_1.update(set_2)\n",
    "print(set_1)"
   ]
  },
  {
   "cell_type": "code",
   "execution_count": null,
   "id": "425073a5",
   "metadata": {},
   "outputs": [],
   "source": [
    "## intersection_update(): keep the items that exist in bot setx and set y:\n",
    "x = {\"apple\",\"banana\",\"cherry\"}\n",
    "y = {\"google\",\"microsoft\",\"apple\"}\n",
    "x.intersection_update(y)\n",
    "print(x)"
   ]
  },
  {
   "cell_type": "code",
   "execution_count": null,
   "id": "07ebd297",
   "metadata": {},
   "outputs": [],
   "source": [
    "x = {\"apple\",\"banana\",\"cherry\"}\n",
    "y = {\"google\",\"microsoft\",\"apple\"}\n",
    "x.intersection_update(y)\n",
    "print(x)"
   ]
  },
  {
   "cell_type": "code",
   "execution_count": null,
   "id": "0e2948be",
   "metadata": {},
   "outputs": [],
   "source": [
    "# symmentric_difference_update() it is used to keep all the elements but not duplicates.\n",
    "x = {\"apple\",\"banana\",\"cherry\"}\n",
    "y = {\"google\",\"microsoft\",\"apple\"}\n",
    "x.symmetric_difference_update(y)\n",
    "print(x)"
   ]
  },
  {
   "cell_type": "code",
   "execution_count": null,
   "id": "2a4fe160",
   "metadata": {},
   "outputs": [],
   "source": [
    "s = {\"a\",\"b\",\"c\",\"d\"}\n",
    "s1 = {\"a\",\"p\",\"q\",\"r\"}\n",
    "s.symmetric_difference_update(s1)\n",
    "print(s)"
   ]
  },
  {
   "cell_type": "code",
   "execution_count": null,
   "id": "df514120",
   "metadata": {},
   "outputs": [],
   "source": [
    "s = {\"a\",\"b\",\"c\",\"d\"}\n",
    "s1 = {\"a\",\"p\",\"q\",\"r\"}\n",
    "s.symmetric_difference_update(s1)\n",
    "print(s)"
   ]
  },
  {
   "cell_type": "code",
   "execution_count": null,
   "id": "eb7de23b",
   "metadata": {},
   "outputs": [],
   "source": [
    "s = {\"a\",\"b\",\"c\",\"d\"}\n",
    "s1 = {\"a\",\"p\",\"q\",\"r\"}\n",
    "s.intersection(s1)\n",
    "print(s)"
   ]
  },
  {
   "cell_type": "code",
   "execution_count": null,
   "id": "f9640ff9",
   "metadata": {},
   "outputs": [],
   "source": [
    "a = {5,4}\n",
    "b = {1,2,4,5}\n",
    "a<b"
   ]
  },
  {
   "cell_type": "code",
   "execution_count": null,
   "id": "a5ddefac",
   "metadata": {},
   "outputs": [],
   "source": [
    "a = {5,6,7,8}\n",
    "print(len(a))\n",
    "print(min(a))\n",
    "a.remove(5)"
   ]
  },
  {
   "cell_type": "code",
   "execution_count": null,
   "id": "23b1020a",
   "metadata": {},
   "outputs": [],
   "source": [
    "## what will be the output of the following python code\n",
    "\n",
    "a = {4,5,6}\n",
    "b = {2,8,6}\n",
    "a-b"
   ]
  },
  {
   "cell_type": "code",
   "execution_count": null,
   "id": "90715768",
   "metadata": {},
   "outputs": [],
   "source": [
    "a = {4,5,6}\n",
    "b = {2,8,6}\n",
    "b-a"
   ]
  },
  {
   "cell_type": "code",
   "execution_count": null,
   "id": "f0da46f0",
   "metadata": {},
   "outputs": [],
   "source": [
    "a = {3,4,{7,5}}\n",
    "print(a[2][0])\n",
    "\n",
    "##erroe subset aren't allowed"
   ]
  },
  {
   "cell_type": "code",
   "execution_count": null,
   "id": "f398b428",
   "metadata": {},
   "outputs": [],
   "source": []
  },
  {
   "cell_type": "code",
   "execution_count": null,
   "id": "eecf0225",
   "metadata": {},
   "outputs": [],
   "source": [
    "## is a subset of b\n",
    "a = {4,5}\n",
    "b = {1,2,3,4,5}\n",
    "a.issubset(b)\n",
    "b.issubset(a)"
   ]
  },
  {
   "cell_type": "code",
   "execution_count": null,
   "id": "389c3ccd",
   "metadata": {},
   "outputs": [],
   "source": [
    "a = {4,5,6,7,8}\n",
    "b = {1,4,5,6}\n",
    "a.issubset(b)\n",
    "b.issubset(a)"
   ]
  },
  {
   "cell_type": "code",
   "execution_count": null,
   "id": "a3a3eadc",
   "metadata": {},
   "outputs": [],
   "source": [
    "## Dictionary used to store data values in key:value pairs.\n",
    "# a dictionary is a collection which is ordered , changeable and do not allow duplicates\n",
    "# dictionary are written with curly brackets"
   ]
  },
  {
   "cell_type": "code",
   "execution_count": null,
   "id": "638214ac",
   "metadata": {},
   "outputs": [],
   "source": [
    "thisdict = {\"brand\":\"ford\",\"model\":\"mustang\",\"year\":1964}\n",
    "print(thisdict)"
   ]
  },
  {
   "cell_type": "code",
   "execution_count": null,
   "id": "fbdf62fa",
   "metadata": {},
   "outputs": [],
   "source": [
    "print(thisdict[\"brand\"])"
   ]
  },
  {
   "cell_type": "code",
   "execution_count": null,
   "id": "433268bd",
   "metadata": {},
   "outputs": [],
   "source": [
    "print(thisdict[\"model\"])"
   ]
  },
  {
   "cell_type": "code",
   "execution_count": null,
   "id": "07f82f9c",
   "metadata": {},
   "outputs": [],
   "source": [
    "thisdict = {\"brand\":\"ford\",\"model\":\"mustang\",\"year\":1964 , \"year\":2023}\n",
    "print(thisdict)"
   ]
  },
  {
   "cell_type": "code",
   "execution_count": null,
   "id": "dee26ba5",
   "metadata": {},
   "outputs": [],
   "source": [
    "thisdict = {\"brand\":\"ford\",\"model\":\"mustang\",\"year\":1964, \"year1\":2023}\n",
    "print(thisdict)"
   ]
  },
  {
   "cell_type": "code",
   "execution_count": null,
   "id": "e5775dbb",
   "metadata": {},
   "outputs": [],
   "source": [
    "thisdict.keys()"
   ]
  },
  {
   "cell_type": "code",
   "execution_count": null,
   "id": "74308254",
   "metadata": {},
   "outputs": [],
   "source": [
    "thisdict.values()"
   ]
  },
  {
   "cell_type": "code",
   "execution_count": null,
   "id": "3ecf4704",
   "metadata": {},
   "outputs": [],
   "source": [
    "thisdict.items()"
   ]
  },
  {
   "cell_type": "code",
   "execution_count": null,
   "id": "5eff382c",
   "metadata": {},
   "outputs": [],
   "source": [
    "thisdict[\"color\"] = \"pink\"\n",
    "print(thisdict)"
   ]
  },
  {
   "cell_type": "code",
   "execution_count": null,
   "id": "9ef5b17b",
   "metadata": {},
   "outputs": [],
   "source": [
    "thisdict[\"segement\"] = \"SUV\"\n",
    "print(thisdict)"
   ]
  },
  {
   "cell_type": "code",
   "execution_count": null,
   "id": "3aa9b69c",
   "metadata": {},
   "outputs": [],
   "source": [
    "thisdict.update({\"year\":2022})\n",
    "print(thisdict)"
   ]
  },
  {
   "cell_type": "code",
   "execution_count": null,
   "id": "55311e27",
   "metadata": {},
   "outputs": [],
   "source": [
    "thisdict.pop(\"year1\")\n",
    "print(thisdict)"
   ]
  },
  {
   "cell_type": "code",
   "execution_count": null,
   "id": "2c5caac3",
   "metadata": {},
   "outputs": [],
   "source": [
    "thisdict = {\"brand\":\"ford\",\"model\":\"mustang\",\"year\":1964, \"year1\":2023}\n",
    "\n",
    "for i in thisdict:\n",
    "    print(i)"
   ]
  },
  {
   "cell_type": "code",
   "execution_count": null,
   "id": "a44cbb4e",
   "metadata": {},
   "outputs": [],
   "source": [
    "thisdict = {\"brand\":\"ford\",\"model\":\"mustang\",\"year\":1964, \"year1\":2023}\n",
    "\n",
    "for i in thisdict.items():\n",
    "    print(i)"
   ]
  },
  {
   "cell_type": "code",
   "execution_count": null,
   "id": "e1b08f62",
   "metadata": {},
   "outputs": [],
   "source": [
    "thisdict = {\"brand\":\"ford\",\"model\":\"mustang\",\"year\":1964, \"year1\":2023}\n",
    "for i in thisdict.values():\n",
    "    print(i)"
   ]
  },
  {
   "cell_type": "code",
   "execution_count": null,
   "id": "bd2b84eb",
   "metadata": {},
   "outputs": [],
   "source": [
    "new_dict = thisdict.copy()\n",
    "new_dict"
   ]
  },
  {
   "cell_type": "code",
   "execution_count": null,
   "id": "98fbc9eb",
   "metadata": {},
   "outputs": [],
   "source": [
    "my_family = {\"child1\":{\"name\":\"ram\",\"age\":18},\n",
    "            \"child2\":{\"name\":\"shyam\" , \"age\":27},\n",
    "            \"child3\":{\"name\":\"sita\",\"age\":19}\n",
    "            }\n",
    "print(my_family)"
   ]
  },
  {
   "cell_type": "code",
   "execution_count": null,
   "id": "bfa87251",
   "metadata": {},
   "outputs": [],
   "source": [
    "d = {\"john\":40,\"peter\":45}\n",
    "print(d[\"susan\"])"
   ]
  },
  {
   "cell_type": "code",
   "execution_count": null,
   "id": "c1dbb1a9",
   "metadata": {},
   "outputs": [],
   "source": [
    "a = {\"a\":1,\"b\":2,\"c\":3,\"d\":4}\n",
    "del a"
   ]
  },
  {
   "cell_type": "code",
   "execution_count": null,
   "id": "99862199",
   "metadata": {},
   "outputs": [],
   "source": []
  },
  {
   "cell_type": "code",
   "execution_count": null,
   "id": "8478722a",
   "metadata": {},
   "outputs": [],
   "source": [
    "test = {1:\"a\",2:\"b\",3:\"c\"}\n",
    "test = {}\n",
    "print(len(test))"
   ]
  },
  {
   "cell_type": "code",
   "execution_count": null,
   "id": "f1b2712f",
   "metadata": {},
   "outputs": [],
   "source": [
    "numbers = {}\n",
    "letters = {}\n",
    "comb = {}\n",
    "numbers[1] = 56\n",
    "numbers[3] = 7\n",
    "letters[4] = 'B'\n",
    "comb[\"Numbers\"] = numbers\n",
    "comb[\"letters\"] = letters\n",
    "print(comb)\n",
    "\n"
   ]
  },
  {
   "cell_type": "code",
   "execution_count": null,
   "id": "6f014492",
   "metadata": {},
   "outputs": [],
   "source": [
    "## usinf def function\n",
    "\n",
    "def display():\n",
    "    print(\"this is Rajan\")\n",
    "display()"
   ]
  },
  {
   "cell_type": "code",
   "execution_count": null,
   "id": "0bb5ab23",
   "metadata": {},
   "outputs": [],
   "source": [
    "def add():\n",
    "    print(12+13)\n",
    "add()"
   ]
  },
  {
   "cell_type": "code",
   "execution_count": null,
   "id": "f34e7c0f",
   "metadata": {},
   "outputs": [],
   "source": [
    "def add(a,b):\n",
    "    sum = a+b\n",
    "    return sum\n"
   ]
  },
  {
   "cell_type": "code",
   "execution_count": null,
   "id": "3c854086",
   "metadata": {},
   "outputs": [],
   "source": [
    "add(12,16)"
   ]
  },
  {
   "cell_type": "code",
   "execution_count": null,
   "id": "2b587a7c",
   "metadata": {},
   "outputs": [],
   "source": [
    "def add():\n",
    "    print(16+19)\n",
    "add()"
   ]
  },
  {
   "cell_type": "code",
   "execution_count": null,
   "id": "333a24ca",
   "metadata": {},
   "outputs": [],
   "source": [
    "def add():\n",
    "    print(128+1829)\n",
    "add()"
   ]
  },
  {
   "cell_type": "code",
   "execution_count": null,
   "id": "5d5e5e67",
   "metadata": {},
   "outputs": [],
   "source": [
    "def product():\n",
    "    print(12*17)\n",
    "product()"
   ]
  },
  {
   "cell_type": "code",
   "execution_count": null,
   "id": "8f71d847",
   "metadata": {},
   "outputs": [],
   "source": [
    "def add():\n",
    "    a = input(\"Enter a number1\")\n",
    "    b = input(\"Enter a number2\")\n",
    "    print(a+b)\n",
    "    \n",
    "add()    "
   ]
  },
  {
   "cell_type": "code",
   "execution_count": null,
   "id": "8f0755c2",
   "metadata": {},
   "outputs": [],
   "source": [
    "def si(p,r,t):\n",
    "    ans = (p*r*t)/(100)\n",
    "    print(ans)\n",
    "\n",
    "a = int(input(\"Enter  a p amount\"))\n",
    "b = int(input(\"Enter a r amount\"))\n",
    "c = int(input(\"Enter a t period\"))\n",
    "\n",
    "si(a,b,c)"
   ]
  },
  {
   "cell_type": "code",
   "execution_count": null,
   "id": "cee9ea02",
   "metadata": {},
   "outputs": [],
   "source": []
  },
  {
   "cell_type": "code",
   "execution_count": 8,
   "id": "e629e70e",
   "metadata": {},
   "outputs": [
    {
     "name": "stdout",
     "output_type": "stream",
     "text": [
      "enter number 1 45\n",
      "enter number 287\n",
      "enter number 389\n"
     ]
    },
    {
     "data": {
      "text/plain": [
       "221"
      ]
     },
     "execution_count": 8,
     "metadata": {},
     "output_type": "execute_result"
    }
   ],
   "source": [
    "def add(a,b,c):\n",
    "    sum = a+b+c\n",
    "    return sum\n",
    "\n",
    "a = int(input(\"enter number 1\"))\n",
    "b = int(input(\"enter number 2\"))\n",
    "c = int(input(\"enter number 3\"))\n",
    "\n",
    "add(a,b,c)"
   ]
  },
  {
   "cell_type": "code",
   "execution_count": 10,
   "id": "44054cf1",
   "metadata": {},
   "outputs": [
    {
     "name": "stdout",
     "output_type": "stream",
     "text": [
      "57\n"
     ]
    }
   ],
   "source": [
    "## lambda function\n",
    "\n",
    "x = lambda a,b :a+b\n",
    "print(x(12,45))"
   ]
  },
  {
   "cell_type": "code",
   "execution_count": 11,
   "id": "a348dc41",
   "metadata": {},
   "outputs": [
    {
     "name": "stdout",
     "output_type": "stream",
     "text": [
      "1904\n"
     ]
    }
   ],
   "source": [
    "x = lambda a,b :a*b\n",
    "print(x(34,56))"
   ]
  },
  {
   "cell_type": "code",
   "execution_count": 12,
   "id": "65214aae",
   "metadata": {},
   "outputs": [
    {
     "name": "stdout",
     "output_type": "stream",
     "text": [
      "20\n"
     ]
    }
   ],
   "source": [
    "x = lambda a:a+10\n",
    "print(x(10))"
   ]
  },
  {
   "cell_type": "code",
   "execution_count": null,
   "id": "ff310b96",
   "metadata": {},
   "outputs": [],
   "source": []
  }
 ],
 "metadata": {
  "kernelspec": {
   "display_name": "Python 3 (ipykernel)",
   "language": "python",
   "name": "python3"
  },
  "language_info": {
   "codemirror_mode": {
    "name": "ipython",
    "version": 3
   },
   "file_extension": ".py",
   "mimetype": "text/x-python",
   "name": "python",
   "nbconvert_exporter": "python",
   "pygments_lexer": "ipython3",
   "version": "3.10.9"
  }
 },
 "nbformat": 4,
 "nbformat_minor": 5
}
